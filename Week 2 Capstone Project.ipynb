{
 "cells": [
  {
   "cell_type": "markdown",
   "metadata": {},
   "source": [
    "#  <center > A new restaurant in Mexico City  </center>\n",
    "##### <center> Alejandro Alfredo Morales Sánchez </center>"
   ]
  },
  {
   "cell_type": "markdown",
   "metadata": {},
   "source": [
    "## Introduction\n",
    "\n",
    "<b> Mexico City </b> is a one of the most representative cities in this country, where food, arquitecture and design are all in one place. Each neighborhoods has something to offer. In this notebook we will try to find the best possible location for a new restaurant. With a population of  8.855 million in 2015 and an area of 1,485 million kilometers squared is one of the most dense cities in the world. Mexico city is also a beatiful city for tourism where people are eager to know the culture through its famous dishes.\n",
    "\n",
    "This report is specially targeted to stakeholders interested in opening a new restaurant in <b> Mexico City </b>. We would try to find the best location in terms of competition and income of neighborhoods.\n",
    "\n",
    "In ordet to solve this problem we would use the <b> Foursquare API </b> to adquire the data and use data science techniques to clean and analyze  it."
   ]
  },
  {
   "cell_type": "markdown",
   "metadata": {},
   "source": [
    "## Data\n"
   ]
  },
  {
   "cell_type": "markdown",
   "metadata": {},
   "source": [
    "Given the nature of our problem we are intereste in:\n",
    "\n",
    "<ul>\n",
    "    <li> All restaurant in a specific zone </li>\n",
    "    <li> Income of neighborhoods  </li>\n",
    "    <li> Average age in neighborhood </li>\n",
    "    "
   ]
  },
  {
   "cell_type": "code",
   "execution_count": null,
   "metadata": {},
   "outputs": [],
   "source": []
  }
 ],
 "metadata": {
  "kernelspec": {
   "display_name": "Python 3",
   "language": "python",
   "name": "python3"
  },
  "language_info": {
   "codemirror_mode": {
    "name": "ipython",
    "version": 3
   },
   "file_extension": ".py",
   "mimetype": "text/x-python",
   "name": "python",
   "nbconvert_exporter": "python",
   "pygments_lexer": "ipython3",
   "version": "3.7.6"
  }
 },
 "nbformat": 4,
 "nbformat_minor": 4
}
